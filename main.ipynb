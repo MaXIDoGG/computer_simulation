{
 "cells": [
  {
   "cell_type": "code",
   "execution_count": 9,
   "metadata": {},
   "outputs": [],
   "source": [
    "import requests\n",
    "import xml.etree.ElementTree as ET\n",
    "import numpy as np"
   ]
  },
  {
   "cell_type": "code",
   "execution_count": 10,
   "metadata": {},
   "outputs": [],
   "source": [
    "res = requests.get(\n",
    "    \"https://www.cbr.ru/scripts/XML_dynamic.asp?date_req1=01/01/2019&date_req2=31/01/2023&VAL_NM_RQ=R01717\"\n",
    ")\n",
    "\n",
    "root = ET.fromstring(res.content)"
   ]
  },
  {
   "cell_type": "code",
   "execution_count": 12,
   "metadata": {},
   "outputs": [
    {
     "name": "stdout",
     "output_type": "stream",
     "text": [
      "1000\n"
     ]
    }
   ],
   "source": [
    "rates = []\n",
    "\n",
    "for item in root.findall(\"Record\"):\n",
    "    rate = float(item.find(\"VunitRate\").text.replace(\",\", \".\"))\n",
    "    rates.append(rate)\n",
    "\n",
    "print(len(rates))"
   ]
  },
  {
   "cell_type": "code",
   "execution_count": 18,
   "metadata": {},
   "outputs": [
    {
     "data": {
      "text/plain": [
       "(0.006677819999999999, 0.00733727, 0.0006594500000000007)"
      ]
     },
     "execution_count": 18,
     "metadata": {},
     "output_type": "execute_result"
    }
   ],
   "source": [
    "# Вычисление квантилей и IQR\n",
    "rates = np.array(rates)\n",
    "Q1 = np.percentile(rates, 25)\n",
    "Q3 = np.percentile(rates, 75)\n",
    "IQR = Q3 - Q1\n",
    "\n",
    "Q1, Q3, IQR"
   ]
  },
  {
   "cell_type": "code",
   "execution_count": 17,
   "metadata": {},
   "outputs": [],
   "source": [
    "#Определение границ\n",
    "lower_bound = Q1 - 1.5 * IQR\n",
    "upper_bound = Q3 + 1.5 * IQR"
   ]
  },
  {
   "cell_type": "code",
   "execution_count": null,
   "metadata": {},
   "outputs": [],
   "source": [
    "cleaned_rates = np.copy(rates)\n",
    "\n",
    "# Выявление индексов выбросов\n",
    "outliers = np.where((rates < lower_bound) | (rates > upper_bound))\n",
    "\n",
    "# Замена выбросов (например, на среднее между границами)\n",
    "replacement_value = (lower_bound + upper_bound) / 2\n",
    "\n",
    "for index in outliers[0]:\n",
    "    cleaned_rates[index] = replacement_value\n",
    "\n",
    "print(f\"Количество выбросов: {len(outliers[0])}\")\n",
    "print(f\"Очищенные данные: {cleaned_rates}\")"
   ]
  },
  {
   "cell_type": "code",
   "execution_count": null,
   "metadata": {},
   "outputs": [],
   "source": []
  }
 ],
 "metadata": {
  "kernelspec": {
   "display_name": "Python 3",
   "language": "python",
   "name": "python3"
  },
  "language_info": {
   "codemirror_mode": {
    "name": "ipython",
    "version": 3
   },
   "file_extension": ".py",
   "mimetype": "text/x-python",
   "name": "python",
   "nbconvert_exporter": "python",
   "pygments_lexer": "ipython3",
   "version": "3.12.4"
  }
 },
 "nbformat": 4,
 "nbformat_minor": 2
}
